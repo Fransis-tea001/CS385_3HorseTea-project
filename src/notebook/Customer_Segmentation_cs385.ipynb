{
  "cells": [
    {
      "cell_type": "code",
      "execution_count": null,
      "metadata": {
        "colab": {
          "base_uri": "https://localhost:8080/"
        },
        "id": "sE56rPfwmFSX",
        "outputId": "ae8bf9da-10d7-47bf-f758-89d0b452b2e2"
      },
      "outputs": [
        {
          "name": "stdout",
          "output_type": "stream",
          "text": [
            "Looking in indexes: https://pypi.org/simple, https://us-python.pkg.dev/colab-wheels/public/simple/\n",
            "Collecting kneed\n",
            "  Downloading kneed-0.7.0-py2.py3-none-any.whl (9.4 kB)\n",
            "Requirement already satisfied: matplotlib in /usr/local/lib/python3.7/dist-packages (from kneed) (3.2.2)\n",
            "Requirement already satisfied: numpy>=1.14.2 in /usr/local/lib/python3.7/dist-packages (from kneed) (1.21.6)\n",
            "Requirement already satisfied: scipy in /usr/local/lib/python3.7/dist-packages (from kneed) (1.4.1)\n",
            "Requirement already satisfied: kiwisolver>=1.0.1 in /usr/local/lib/python3.7/dist-packages (from matplotlib->kneed) (1.4.2)\n",
            "Requirement already satisfied: pyparsing!=2.0.4,!=2.1.2,!=2.1.6,>=2.0.1 in /usr/local/lib/python3.7/dist-packages (from matplotlib->kneed) (3.0.9)\n",
            "Requirement already satisfied: python-dateutil>=2.1 in /usr/local/lib/python3.7/dist-packages (from matplotlib->kneed) (2.8.2)\n",
            "Requirement already satisfied: cycler>=0.10 in /usr/local/lib/python3.7/dist-packages (from matplotlib->kneed) (0.11.0)\n",
            "Requirement already satisfied: typing-extensions in /usr/local/lib/python3.7/dist-packages (from kiwisolver>=1.0.1->matplotlib->kneed) (4.2.0)\n",
            "Requirement already satisfied: six>=1.5 in /usr/local/lib/python3.7/dist-packages (from python-dateutil>=2.1->matplotlib->kneed) (1.15.0)\n",
            "Installing collected packages: kneed\n",
            "Successfully installed kneed-0.7.0\n"
          ]
        }
      ],
      "source": [
        "#!pip install kneed"
      ]
    },
    {
      "cell_type": "code",
      "execution_count": 1,
      "metadata": {
        "id": "C3n_wFYnzdZJ"
      },
      "outputs": [],
      "source": [
        "import numpy as np\n",
        "import pandas as pd\n",
        "\n",
        "from datetime import date\n",
        "from datetime import datetime\n",
        "\n",
        "from scipy import stats\n",
        "from sklearn.preprocessing import StandardScaler\n",
        "from sklearn.cluster import KMeans, AgglomerativeClustering\n",
        "import kneed\n",
        "from sklearn.metrics import calinski_harabasz_score"
      ]
    },
    {
      "cell_type": "code",
      "execution_count": 2,
      "metadata": {
        "id": "0xE4rX55_KUs"
      },
      "outputs": [],
      "source": [
        "import matplotlib.pyplot as plt\n",
        "import seaborn as sns"
      ]
    },
    {
      "cell_type": "code",
      "execution_count": 3,
      "metadata": {
        "id": "wcLyEs12FQs2"
      },
      "outputs": [],
      "source": [
        "from scipy.cluster.hierarchy import dendrogram, ward, complete, average"
      ]
    },
    {
      "cell_type": "markdown",
      "metadata": {
        "id": "w3lYTBk5Cg1_"
      },
      "source": [
        "# RFM Model"
      ]
    },
    {
      "cell_type": "markdown",
      "metadata": {
        "id": "D4CWgK4Rz_EF"
      },
      "source": [
        "## **Data Preprocessing**"
      ]
    },
    {
      "cell_type": "code",
      "execution_count": 4,
      "metadata": {
        "id": "9KPTacLq_81Z"
      },
      "outputs": [],
      "source": [
        "def preprocessing(path_file):\n",
        "  df = pd.read_csv(path_file)\n",
        "  df_clean = df_cleansing(df)\n",
        "  return df_clean"
      ]
    },
    {
      "cell_type": "markdown",
      "metadata": {
        "id": "Ps1zj9uxvqfV"
      },
      "source": [
        "**Data Cleansing**"
      ]
    },
    {
      "cell_type": "markdown",
      "metadata": {
        "id": "QSuqXQR3DVzN"
      },
      "source": [
        "ในการจัดเตรียมข้อมูล จะต้องเอาคอลัมน์ที่ไม่จำเป็นออก, แปลงหมายเลขลูกค้า และหมายเลขคำสั่งซื้อให้เป็น String ส่วนวันที่ทำการสั่งซื้อให้เป็น Datetime จากนั้นเอาแค่วันที่มาวิเคราะห์ และกำจัดค่าผิดปกติในข้อมูล เสร็จแล้วนำข้อมูลที่ทำความสะอาดแล้วมาบันทึกไฟล์"
      ]
    },
    {
      "cell_type": "code",
      "execution_count": 5,
      "metadata": {
        "id": "4743wXKm-WWQ"
      },
      "outputs": [],
      "source": [
        "def df_cleansing(df):\n",
        "  df_clean = df.copy()\n",
        "\n",
        "  # Drop non-meaning columns\n",
        "  df_clean = df_clean.drop(['Customer_Name', 'ZIP', 'Address', 'Tel'], axis=1)\n",
        "\n",
        "  # Convert Order_ID and Customer_ID to String\n",
        "  df_clean['Order_ID'], df_clean['Customer_ID'] = df_clean['Order_ID'].astype('str'), df_clean['Customer_ID'].astype('str')\n",
        "  df_clean['Order_Date'] = pd.to_datetime(df_clean['Order_Date'])\n",
        "\n",
        "  # Separate Date and time\n",
        "  df_clean = date_sep(df_clean)\n",
        "\n",
        "  # Find Outlier and Remove the outlier using the Quantile based floring and capping technique.\n",
        "  df_clean = cleaning_outlier(df_clean)\n",
        "\n",
        "  df_clean = df_clean[df_clean['date'] < date.today()]\n",
        "  df_clean.to_csv('Customer_clean.csv')\n",
        "  return df_clean"
      ]
    },
    {
      "cell_type": "markdown",
      "metadata": {
        "id": "bcplb5CRvuY3"
      },
      "source": [
        "**Separate Date and time**"
      ]
    },
    {
      "cell_type": "code",
      "execution_count": 6,
      "metadata": {
        "id": "kdaOpxgY_yeZ"
      },
      "outputs": [],
      "source": [
        "def date_sep(df):\n",
        "  for d in range(len(df['Order_Date'])):\n",
        "    df.loc[d, 'date'] = df.loc[d, 'Order_Date'].date()\n",
        "    df = df.sort_values('date', ascending=True).reset_index(drop=True)\n",
        "  return df.drop(['Order_Date'],axis=1)"
      ]
    },
    {
      "cell_type": "markdown",
      "metadata": {
        "id": "aXulnkVMv0d0"
      },
      "source": [
        "**Detect outlier and Eliminate the outlier**"
      ]
    },
    {
      "cell_type": "code",
      "execution_count": 7,
      "metadata": {
        "id": "9jqaMTuxoJbF"
      },
      "outputs": [],
      "source": [
        "def cleaning_outlier(df):\n",
        "  df_num = [i for i in df.dtypes.index if df.dtypes[i] == 'int64']\n",
        "  df_num_out = [i for i in df_num if len(find_outliers_IQR(df[i])) > 0]\n",
        "\n",
        "  if len(df_num_out) == 0:\n",
        "    return df\n",
        "  else:\n",
        "    for i in df_num_out:\n",
        "      tenth_q = df[i].quantile(0.10)\n",
        "      ninth_q = df[i].quantile(0.90)\n",
        "      df[i] = np.where(df[i] < tenth_q, tenth_q, df[i])\n",
        "      df[i] = np.where(df[i] > ninth_q, ninth_q, df[i])\n",
        "    return df\n",
        "\n",
        "def find_outliers_IQR(df):\n",
        "  Q1 = df.quantile(0.25)\n",
        "  Q3 = df.quantile(0.75)\n",
        "  IQR = Q3-Q1\n",
        "  outliers = df[((df < (Q1 - 1.5*IQR)) | (df > (Q3 + 1.5*IQR)))]\n",
        "  return outliers"
      ]
    },
    {
      "cell_type": "code",
      "execution_count": 8,
      "metadata": {
        "id": "_APTWhQiTGCa"
      },
      "outputs": [],
      "source": [
        "df_clean = preprocessing('/content/drive/MyDrive/dataset/dummy.csv')"
      ]
    },
    {
      "cell_type": "code",
      "execution_count": 9,
      "metadata": {
        "colab": {
          "base_uri": "https://localhost:8080/",
          "height": 206
        },
        "id": "uySgZayKAxlr",
        "outputId": "ebeed9f1-39d8-4f2e-bb43-b667d64636ab"
      },
      "outputs": [
        {
          "data": {
            "text/html": [
              "\n",
              "  <div id=\"df-28c4b2ab-33a6-47a6-bb38-8414860af651\">\n",
              "    <div class=\"colab-df-container\">\n",
              "      <div>\n",
              "<style scoped>\n",
              "    .dataframe tbody tr th:only-of-type {\n",
              "        vertical-align: middle;\n",
              "    }\n",
              "\n",
              "    .dataframe tbody tr th {\n",
              "        vertical-align: top;\n",
              "    }\n",
              "\n",
              "    .dataframe thead th {\n",
              "        text-align: right;\n",
              "    }\n",
              "</style>\n",
              "<table border=\"1\" class=\"dataframe\">\n",
              "  <thead>\n",
              "    <tr style=\"text-align: right;\">\n",
              "      <th></th>\n",
              "      <th>Order_Source</th>\n",
              "      <th>Order_ID</th>\n",
              "      <th>Customer_ID</th>\n",
              "      <th>Product_ID</th>\n",
              "      <th>Product_Price</th>\n",
              "      <th>Quantity</th>\n",
              "      <th>Promotion</th>\n",
              "      <th>TotalPrice</th>\n",
              "      <th>date</th>\n",
              "    </tr>\n",
              "  </thead>\n",
              "  <tbody>\n",
              "    <tr>\n",
              "      <th>0</th>\n",
              "      <td>Call</td>\n",
              "      <td>1570</td>\n",
              "      <td>75859</td>\n",
              "      <td>THT0007</td>\n",
              "      <td>370</td>\n",
              "      <td>3</td>\n",
              "      <td>No</td>\n",
              "      <td>1110</td>\n",
              "      <td>2020-01-05</td>\n",
              "    </tr>\n",
              "    <tr>\n",
              "      <th>1</th>\n",
              "      <td>Facebook</td>\n",
              "      <td>3194</td>\n",
              "      <td>43926</td>\n",
              "      <td>THT0014</td>\n",
              "      <td>510</td>\n",
              "      <td>4</td>\n",
              "      <td>Yes</td>\n",
              "      <td>2040</td>\n",
              "      <td>2020-01-05</td>\n",
              "    </tr>\n",
              "    <tr>\n",
              "      <th>2</th>\n",
              "      <td>Call</td>\n",
              "      <td>3978</td>\n",
              "      <td>65206</td>\n",
              "      <td>THT0017</td>\n",
              "      <td>570</td>\n",
              "      <td>3</td>\n",
              "      <td>Yes</td>\n",
              "      <td>1710</td>\n",
              "      <td>2020-01-08</td>\n",
              "    </tr>\n",
              "    <tr>\n",
              "      <th>3</th>\n",
              "      <td>Shopee</td>\n",
              "      <td>5207</td>\n",
              "      <td>83249</td>\n",
              "      <td>THT0002</td>\n",
              "      <td>270</td>\n",
              "      <td>2</td>\n",
              "      <td>No</td>\n",
              "      <td>540</td>\n",
              "      <td>2020-01-29</td>\n",
              "    </tr>\n",
              "    <tr>\n",
              "      <th>4</th>\n",
              "      <td>Call</td>\n",
              "      <td>6743</td>\n",
              "      <td>67902</td>\n",
              "      <td>THT0014</td>\n",
              "      <td>510</td>\n",
              "      <td>4</td>\n",
              "      <td>Yes</td>\n",
              "      <td>2040</td>\n",
              "      <td>2020-01-31</td>\n",
              "    </tr>\n",
              "  </tbody>\n",
              "</table>\n",
              "</div>\n",
              "      <button class=\"colab-df-convert\" onclick=\"convertToInteractive('df-28c4b2ab-33a6-47a6-bb38-8414860af651')\"\n",
              "              title=\"Convert this dataframe to an interactive table.\"\n",
              "              style=\"display:none;\">\n",
              "        \n",
              "  <svg xmlns=\"http://www.w3.org/2000/svg\" height=\"24px\"viewBox=\"0 0 24 24\"\n",
              "       width=\"24px\">\n",
              "    <path d=\"M0 0h24v24H0V0z\" fill=\"none\"/>\n",
              "    <path d=\"M18.56 5.44l.94 2.06.94-2.06 2.06-.94-2.06-.94-.94-2.06-.94 2.06-2.06.94zm-11 1L8.5 8.5l.94-2.06 2.06-.94-2.06-.94L8.5 2.5l-.94 2.06-2.06.94zm10 10l.94 2.06.94-2.06 2.06-.94-2.06-.94-.94-2.06-.94 2.06-2.06.94z\"/><path d=\"M17.41 7.96l-1.37-1.37c-.4-.4-.92-.59-1.43-.59-.52 0-1.04.2-1.43.59L10.3 9.45l-7.72 7.72c-.78.78-.78 2.05 0 2.83L4 21.41c.39.39.9.59 1.41.59.51 0 1.02-.2 1.41-.59l7.78-7.78 2.81-2.81c.8-.78.8-2.07 0-2.86zM5.41 20L4 18.59l7.72-7.72 1.47 1.35L5.41 20z\"/>\n",
              "  </svg>\n",
              "      </button>\n",
              "      \n",
              "  <style>\n",
              "    .colab-df-container {\n",
              "      display:flex;\n",
              "      flex-wrap:wrap;\n",
              "      gap: 12px;\n",
              "    }\n",
              "\n",
              "    .colab-df-convert {\n",
              "      background-color: #E8F0FE;\n",
              "      border: none;\n",
              "      border-radius: 50%;\n",
              "      cursor: pointer;\n",
              "      display: none;\n",
              "      fill: #1967D2;\n",
              "      height: 32px;\n",
              "      padding: 0 0 0 0;\n",
              "      width: 32px;\n",
              "    }\n",
              "\n",
              "    .colab-df-convert:hover {\n",
              "      background-color: #E2EBFA;\n",
              "      box-shadow: 0px 1px 2px rgba(60, 64, 67, 0.3), 0px 1px 3px 1px rgba(60, 64, 67, 0.15);\n",
              "      fill: #174EA6;\n",
              "    }\n",
              "\n",
              "    [theme=dark] .colab-df-convert {\n",
              "      background-color: #3B4455;\n",
              "      fill: #D2E3FC;\n",
              "    }\n",
              "\n",
              "    [theme=dark] .colab-df-convert:hover {\n",
              "      background-color: #434B5C;\n",
              "      box-shadow: 0px 1px 3px 1px rgba(0, 0, 0, 0.15);\n",
              "      filter: drop-shadow(0px 1px 2px rgba(0, 0, 0, 0.3));\n",
              "      fill: #FFFFFF;\n",
              "    }\n",
              "  </style>\n",
              "\n",
              "      <script>\n",
              "        const buttonEl =\n",
              "          document.querySelector('#df-28c4b2ab-33a6-47a6-bb38-8414860af651 button.colab-df-convert');\n",
              "        buttonEl.style.display =\n",
              "          google.colab.kernel.accessAllowed ? 'block' : 'none';\n",
              "\n",
              "        async function convertToInteractive(key) {\n",
              "          const element = document.querySelector('#df-28c4b2ab-33a6-47a6-bb38-8414860af651');\n",
              "          const dataTable =\n",
              "            await google.colab.kernel.invokeFunction('convertToInteractive',\n",
              "                                                     [key], {});\n",
              "          if (!dataTable) return;\n",
              "\n",
              "          const docLinkHtml = 'Like what you see? Visit the ' +\n",
              "            '<a target=\"_blank\" href=https://colab.research.google.com/notebooks/data_table.ipynb>data table notebook</a>'\n",
              "            + ' to learn more about interactive tables.';\n",
              "          element.innerHTML = '';\n",
              "          dataTable['output_type'] = 'display_data';\n",
              "          await google.colab.output.renderOutput(dataTable, element);\n",
              "          const docLink = document.createElement('div');\n",
              "          docLink.innerHTML = docLinkHtml;\n",
              "          element.appendChild(docLink);\n",
              "        }\n",
              "      </script>\n",
              "    </div>\n",
              "  </div>\n",
              "  "
            ],
            "text/plain": [
              "  Order_Source Order_ID Customer_ID Product_ID  Product_Price  Quantity  \\\n",
              "0         Call     1570       75859    THT0007            370         3   \n",
              "1     Facebook     3194       43926    THT0014            510         4   \n",
              "2         Call     3978       65206    THT0017            570         3   \n",
              "3       Shopee     5207       83249    THT0002            270         2   \n",
              "4         Call     6743       67902    THT0014            510         4   \n",
              "\n",
              "  Promotion  TotalPrice        date  \n",
              "0        No        1110  2020-01-05  \n",
              "1       Yes        2040  2020-01-05  \n",
              "2       Yes        1710  2020-01-08  \n",
              "3        No         540  2020-01-29  \n",
              "4       Yes        2040  2020-01-31  "
            ]
          },
          "execution_count": 9,
          "metadata": {},
          "output_type": "execute_result"
        }
      ],
      "source": [
        "df_clean.head()"
      ]
    },
    {
      "cell_type": "markdown",
      "metadata": {
        "id": "k5FNQRyItXlU"
      },
      "source": [
        "## **Data Wragling**"
      ]
    },
    {
      "cell_type": "code",
      "execution_count": 10,
      "metadata": {
        "id": "QFPmGOdVIBGx"
      },
      "outputs": [],
      "source": [
        "def data_wagling(df):\n",
        "  df_r = calculate_recency(df)\n",
        "  df_rf = df_r.merge(calculate_frequency(df), on='Customer_ID')\n",
        "  df_rfm = df_rf.merge(calculate_monetary(df), on='Customer_ID')\n",
        "\n",
        "  return df_rfm"
      ]
    },
    {
      "cell_type": "markdown",
      "metadata": {
        "id": "5eBuPgKA27vB"
      },
      "source": [
        "*   recency = วันที่ลูกค้าเข้าไปซื้อที่ร้านค้าครั้งสุดท้าย (วันนี้ - วันที่สั่งซื้อ)\n",
        "*   frequency = ความถี่ในการซื้อ\n",
        "*   monetary = จำนวนเงินซื้อของลูกค้ามีราคารวมเท่าไร"
      ]
    },
    {
      "cell_type": "code",
      "execution_count": 11,
      "metadata": {
        "id": "QjYz4Xe81mTO"
      },
      "outputs": [],
      "source": [
        "def calculate_recency(df):\n",
        "  NOW = date.today()\n",
        "  for i in range(len(df['date'])):\n",
        "    df.loc[i, 'recency'] = (NOW - df.loc[i, 'date']).days\n",
        "  df = df[['Customer_ID', 'recency']]\n",
        "  return df\n",
        "\n",
        "def calculate_frequency(df):\n",
        "  df = df.drop_duplicates().groupby(by=['Customer_ID'], as_index=False)['date'].count()\n",
        "  df.columns = ['Customer_ID', 'frequency']\n",
        "  return df\n",
        "\n",
        "def calculate_monetary(df):\n",
        "  df = df.groupby('Customer_ID', as_index=False).sum()\n",
        "  df['monetary'] = df['Product_Price'] * df['Quantity']\n",
        "  df = df[['Customer_ID', 'monetary']]\n",
        "  return df"
      ]
    },
    {
      "cell_type": "code",
      "execution_count": 12,
      "metadata": {
        "id": "gAzYJhxgeW8K"
      },
      "outputs": [],
      "source": [
        "df_wrag = data_wagling(df_clean)"
      ]
    },
    {
      "cell_type": "code",
      "execution_count": 13,
      "metadata": {
        "colab": {
          "base_uri": "https://localhost:8080/",
          "height": 206
        },
        "id": "L2CB9aLGA-hL",
        "outputId": "d3040e0b-e135-49cf-b0bc-748389c539d9"
      },
      "outputs": [
        {
          "data": {
            "text/html": [
              "\n",
              "  <div id=\"df-c1c3a90b-5d79-41de-a8a4-0bc8ac60c2ba\">\n",
              "    <div class=\"colab-df-container\">\n",
              "      <div>\n",
              "<style scoped>\n",
              "    .dataframe tbody tr th:only-of-type {\n",
              "        vertical-align: middle;\n",
              "    }\n",
              "\n",
              "    .dataframe tbody tr th {\n",
              "        vertical-align: top;\n",
              "    }\n",
              "\n",
              "    .dataframe thead th {\n",
              "        text-align: right;\n",
              "    }\n",
              "</style>\n",
              "<table border=\"1\" class=\"dataframe\">\n",
              "  <thead>\n",
              "    <tr style=\"text-align: right;\">\n",
              "      <th></th>\n",
              "      <th>Customer_ID</th>\n",
              "      <th>recency</th>\n",
              "      <th>frequency</th>\n",
              "      <th>monetary</th>\n",
              "    </tr>\n",
              "  </thead>\n",
              "  <tbody>\n",
              "    <tr>\n",
              "      <th>0</th>\n",
              "      <td>75859</td>\n",
              "      <td>871.0</td>\n",
              "      <td>1</td>\n",
              "      <td>1110</td>\n",
              "    </tr>\n",
              "    <tr>\n",
              "      <th>1</th>\n",
              "      <td>43926</td>\n",
              "      <td>871.0</td>\n",
              "      <td>1</td>\n",
              "      <td>2040</td>\n",
              "    </tr>\n",
              "    <tr>\n",
              "      <th>2</th>\n",
              "      <td>65206</td>\n",
              "      <td>868.0</td>\n",
              "      <td>1</td>\n",
              "      <td>1710</td>\n",
              "    </tr>\n",
              "    <tr>\n",
              "      <th>3</th>\n",
              "      <td>83249</td>\n",
              "      <td>847.0</td>\n",
              "      <td>1</td>\n",
              "      <td>540</td>\n",
              "    </tr>\n",
              "    <tr>\n",
              "      <th>4</th>\n",
              "      <td>67902</td>\n",
              "      <td>845.0</td>\n",
              "      <td>1</td>\n",
              "      <td>2040</td>\n",
              "    </tr>\n",
              "  </tbody>\n",
              "</table>\n",
              "</div>\n",
              "      <button class=\"colab-df-convert\" onclick=\"convertToInteractive('df-c1c3a90b-5d79-41de-a8a4-0bc8ac60c2ba')\"\n",
              "              title=\"Convert this dataframe to an interactive table.\"\n",
              "              style=\"display:none;\">\n",
              "        \n",
              "  <svg xmlns=\"http://www.w3.org/2000/svg\" height=\"24px\"viewBox=\"0 0 24 24\"\n",
              "       width=\"24px\">\n",
              "    <path d=\"M0 0h24v24H0V0z\" fill=\"none\"/>\n",
              "    <path d=\"M18.56 5.44l.94 2.06.94-2.06 2.06-.94-2.06-.94-.94-2.06-.94 2.06-2.06.94zm-11 1L8.5 8.5l.94-2.06 2.06-.94-2.06-.94L8.5 2.5l-.94 2.06-2.06.94zm10 10l.94 2.06.94-2.06 2.06-.94-2.06-.94-.94-2.06-.94 2.06-2.06.94z\"/><path d=\"M17.41 7.96l-1.37-1.37c-.4-.4-.92-.59-1.43-.59-.52 0-1.04.2-1.43.59L10.3 9.45l-7.72 7.72c-.78.78-.78 2.05 0 2.83L4 21.41c.39.39.9.59 1.41.59.51 0 1.02-.2 1.41-.59l7.78-7.78 2.81-2.81c.8-.78.8-2.07 0-2.86zM5.41 20L4 18.59l7.72-7.72 1.47 1.35L5.41 20z\"/>\n",
              "  </svg>\n",
              "      </button>\n",
              "      \n",
              "  <style>\n",
              "    .colab-df-container {\n",
              "      display:flex;\n",
              "      flex-wrap:wrap;\n",
              "      gap: 12px;\n",
              "    }\n",
              "\n",
              "    .colab-df-convert {\n",
              "      background-color: #E8F0FE;\n",
              "      border: none;\n",
              "      border-radius: 50%;\n",
              "      cursor: pointer;\n",
              "      display: none;\n",
              "      fill: #1967D2;\n",
              "      height: 32px;\n",
              "      padding: 0 0 0 0;\n",
              "      width: 32px;\n",
              "    }\n",
              "\n",
              "    .colab-df-convert:hover {\n",
              "      background-color: #E2EBFA;\n",
              "      box-shadow: 0px 1px 2px rgba(60, 64, 67, 0.3), 0px 1px 3px 1px rgba(60, 64, 67, 0.15);\n",
              "      fill: #174EA6;\n",
              "    }\n",
              "\n",
              "    [theme=dark] .colab-df-convert {\n",
              "      background-color: #3B4455;\n",
              "      fill: #D2E3FC;\n",
              "    }\n",
              "\n",
              "    [theme=dark] .colab-df-convert:hover {\n",
              "      background-color: #434B5C;\n",
              "      box-shadow: 0px 1px 3px 1px rgba(0, 0, 0, 0.15);\n",
              "      filter: drop-shadow(0px 1px 2px rgba(0, 0, 0, 0.3));\n",
              "      fill: #FFFFFF;\n",
              "    }\n",
              "  </style>\n",
              "\n",
              "      <script>\n",
              "        const buttonEl =\n",
              "          document.querySelector('#df-c1c3a90b-5d79-41de-a8a4-0bc8ac60c2ba button.colab-df-convert');\n",
              "        buttonEl.style.display =\n",
              "          google.colab.kernel.accessAllowed ? 'block' : 'none';\n",
              "\n",
              "        async function convertToInteractive(key) {\n",
              "          const element = document.querySelector('#df-c1c3a90b-5d79-41de-a8a4-0bc8ac60c2ba');\n",
              "          const dataTable =\n",
              "            await google.colab.kernel.invokeFunction('convertToInteractive',\n",
              "                                                     [key], {});\n",
              "          if (!dataTable) return;\n",
              "\n",
              "          const docLinkHtml = 'Like what you see? Visit the ' +\n",
              "            '<a target=\"_blank\" href=https://colab.research.google.com/notebooks/data_table.ipynb>data table notebook</a>'\n",
              "            + ' to learn more about interactive tables.';\n",
              "          element.innerHTML = '';\n",
              "          dataTable['output_type'] = 'display_data';\n",
              "          await google.colab.output.renderOutput(dataTable, element);\n",
              "          const docLink = document.createElement('div');\n",
              "          docLink.innerHTML = docLinkHtml;\n",
              "          element.appendChild(docLink);\n",
              "        }\n",
              "      </script>\n",
              "    </div>\n",
              "  </div>\n",
              "  "
            ],
            "text/plain": [
              "  Customer_ID  recency  frequency  monetary\n",
              "0       75859    871.0          1      1110\n",
              "1       43926    871.0          1      2040\n",
              "2       65206    868.0          1      1710\n",
              "3       83249    847.0          1       540\n",
              "4       67902    845.0          1      2040"
            ]
          },
          "execution_count": 13,
          "metadata": {},
          "output_type": "execute_result"
        }
      ],
      "source": [
        "df_wrag.head()"
      ]
    },
    {
      "cell_type": "markdown",
      "metadata": {
        "id": "jOvKcccVtcaj"
      },
      "source": [
        "## **RFM Modelling**"
      ]
    },
    {
      "cell_type": "code",
      "execution_count": 14,
      "metadata": {
        "id": "7RJkZKRbgvt4"
      },
      "outputs": [],
      "source": [
        "def data_processing(df):\n",
        "  df_copy = df.copy()\n",
        "  df_segt = rfm_score(df_copy)\n",
        "  df_segt = customer_segmentation(df_segt)\n",
        "  df_segt.to_csv('Customer_type.csv')\n",
        "  return df_segt"
      ]
    },
    {
      "cell_type": "markdown",
      "metadata": {
        "id": "fwJGljjYxbDc"
      },
      "source": [
        "แบ่ง Quintiles ออกเป็น 20% ของจำนวนข้อมูลทั้งหมด แล้วกำหนดอันดับตั้งแต่ 1 ถึง 5 โดยยิ่งค่า recency น้อยเท่าไร คะแนนก็จะยิ่งมากขึ้น ส่วนค่า Frequency และ Monetary ยิ่งมากเท่าไร คะแนนก็จะยิ่งมากขึ้น เสร็จแล้วนำค่าทั้ง 3 ค่ามารวมกัน"
      ]
    },
    {
      "cell_type": "code",
      "execution_count": 15,
      "metadata": {
        "id": "d7Czg3n8JQdC"
      },
      "outputs": [],
      "source": [
        "def rfm_score(df):\n",
        "  quantiles = df.quantile(q=[.2, .4, .6, .8]).to_dict()\n",
        "  df['r_score'] = df['recency'].apply(RScore, args=('recency',quantiles,))\n",
        "  df['f_score'] = df['frequency'].apply(FMScore, args=('frequency',quantiles,))\n",
        "  df['m_score'] = df['monetary'].apply(FMScore, args=('monetary',quantiles,))\n",
        "  df['RFMScore'] = df.r_score.map(str) + df.f_score.map(str) + df.m_score.map(str)\n",
        "  return df"
      ]
    },
    {
      "cell_type": "code",
      "execution_count": 16,
      "metadata": {
        "id": "50e-cxfDo9md"
      },
      "outputs": [],
      "source": [
        "def RScore(x,p,d):\n",
        "  if x <= d[p][0.2]:\n",
        "    return 5\n",
        "  elif x <= d[p][0.4]:\n",
        "    return 4\n",
        "  elif x <= d[p][0.6]: \n",
        "    return 3\n",
        "  elif x <= d[p][0.8]: \n",
        "   return 2\n",
        "  else:\n",
        "   return 1\n",
        "    \n",
        "def FMScore(x,p,d):\n",
        "  if x <= d[p][0.2]:\n",
        "    return 1\n",
        "  elif x <= d[p][0.4]:\n",
        "    return 2\n",
        "  elif x <= d[p][0.6]: \n",
        "    return 3\n",
        "  elif x <= d[p][0.8]: \n",
        "   return 4\n",
        "  else:\n",
        "   return 5"
      ]
    },
    {
      "cell_type": "markdown",
      "metadata": {
        "id": "qeBXB2-z0PDt"
      },
      "source": [
        "จากนั้นนำค่า RFM score มาจัดกลุ่มลูกค้า โดยใช้ Regular Expression ในการจัดกลุ่ม"
      ]
    },
    {
      "cell_type": "code",
      "execution_count": 17,
      "metadata": {
        "id": "NaQoPUQao9jV"
      },
      "outputs": [],
      "source": [
        "def customer_segmentation(df):\n",
        "  segt_map = {\n",
        "    r'[4-5][3-5][4-5]': 'Champions',\n",
        "    r'[2-4][3-5][4-5]': 'Loyal Customers',\n",
        "    r'[3-4][3-5][1-4]': 'Need Attention',\n",
        "    r'[4-5][4-5][1-3]': 'Small basket',\n",
        "    r'[3-5][1-3][1-3]': 'Potential Loyalists',\n",
        "    r'[4-5]11': 'New Customers',\n",
        "    r'[3-4]11': 'Promising',\n",
        "    r'[3-5][1-2][4-5]': 'Long time Big Buy',\n",
        "    r'[1-2][1-5][1-5]': 'At Risk',\n",
        "    r'[2-3][1-3][1-3]': 'Hibernating',\n",
        "    r'[1-3][1-2][1-2]': 'About to Sleep',\n",
        "    r'111': 'Lost'\n",
        "  }\n",
        "\n",
        "  df['Segment'] = df['RFMScore'].replace(segt_map, regex=True)\n",
        "  return df"
      ]
    },
    {
      "cell_type": "code",
      "execution_count": 18,
      "metadata": {
        "id": "4ZrSOeTohr_m"
      },
      "outputs": [],
      "source": [
        "df_rfm = data_processing(df_wrag)"
      ]
    },
    {
      "cell_type": "code",
      "execution_count": 19,
      "metadata": {
        "colab": {
          "base_uri": "https://localhost:8080/",
          "height": 424
        },
        "id": "Gf41FbouBENu",
        "outputId": "ae570d4d-fee3-4c5d-ef21-fb2a9d8da9f9"
      },
      "outputs": [
        {
          "data": {
            "text/html": [
              "\n",
              "  <div id=\"df-1eecece1-c74a-4527-9fce-b6a0ee8bb561\">\n",
              "    <div class=\"colab-df-container\">\n",
              "      <div>\n",
              "<style scoped>\n",
              "    .dataframe tbody tr th:only-of-type {\n",
              "        vertical-align: middle;\n",
              "    }\n",
              "\n",
              "    .dataframe tbody tr th {\n",
              "        vertical-align: top;\n",
              "    }\n",
              "\n",
              "    .dataframe thead th {\n",
              "        text-align: right;\n",
              "    }\n",
              "</style>\n",
              "<table border=\"1\" class=\"dataframe\">\n",
              "  <thead>\n",
              "    <tr style=\"text-align: right;\">\n",
              "      <th></th>\n",
              "      <th>Customer_ID</th>\n",
              "      <th>recency</th>\n",
              "      <th>frequency</th>\n",
              "      <th>monetary</th>\n",
              "      <th>r_score</th>\n",
              "      <th>f_score</th>\n",
              "      <th>m_score</th>\n",
              "      <th>RFMScore</th>\n",
              "      <th>Segment</th>\n",
              "    </tr>\n",
              "  </thead>\n",
              "  <tbody>\n",
              "    <tr>\n",
              "      <th>0</th>\n",
              "      <td>75859</td>\n",
              "      <td>871.0</td>\n",
              "      <td>1</td>\n",
              "      <td>1110</td>\n",
              "      <td>1</td>\n",
              "      <td>1</td>\n",
              "      <td>2</td>\n",
              "      <td>112</td>\n",
              "      <td>At Risk</td>\n",
              "    </tr>\n",
              "    <tr>\n",
              "      <th>1</th>\n",
              "      <td>43926</td>\n",
              "      <td>871.0</td>\n",
              "      <td>1</td>\n",
              "      <td>2040</td>\n",
              "      <td>1</td>\n",
              "      <td>1</td>\n",
              "      <td>5</td>\n",
              "      <td>115</td>\n",
              "      <td>At Risk</td>\n",
              "    </tr>\n",
              "    <tr>\n",
              "      <th>2</th>\n",
              "      <td>65206</td>\n",
              "      <td>868.0</td>\n",
              "      <td>1</td>\n",
              "      <td>1710</td>\n",
              "      <td>1</td>\n",
              "      <td>1</td>\n",
              "      <td>4</td>\n",
              "      <td>114</td>\n",
              "      <td>At Risk</td>\n",
              "    </tr>\n",
              "    <tr>\n",
              "      <th>3</th>\n",
              "      <td>83249</td>\n",
              "      <td>847.0</td>\n",
              "      <td>1</td>\n",
              "      <td>540</td>\n",
              "      <td>1</td>\n",
              "      <td>1</td>\n",
              "      <td>1</td>\n",
              "      <td>111</td>\n",
              "      <td>At Risk</td>\n",
              "    </tr>\n",
              "    <tr>\n",
              "      <th>4</th>\n",
              "      <td>67902</td>\n",
              "      <td>845.0</td>\n",
              "      <td>1</td>\n",
              "      <td>2040</td>\n",
              "      <td>1</td>\n",
              "      <td>1</td>\n",
              "      <td>5</td>\n",
              "      <td>115</td>\n",
              "      <td>At Risk</td>\n",
              "    </tr>\n",
              "    <tr>\n",
              "      <th>...</th>\n",
              "      <td>...</td>\n",
              "      <td>...</td>\n",
              "      <td>...</td>\n",
              "      <td>...</td>\n",
              "      <td>...</td>\n",
              "      <td>...</td>\n",
              "      <td>...</td>\n",
              "      <td>...</td>\n",
              "      <td>...</td>\n",
              "    </tr>\n",
              "    <tr>\n",
              "      <th>440</th>\n",
              "      <td>51915</td>\n",
              "      <td>23.0</td>\n",
              "      <td>1</td>\n",
              "      <td>1530</td>\n",
              "      <td>5</td>\n",
              "      <td>1</td>\n",
              "      <td>4</td>\n",
              "      <td>514</td>\n",
              "      <td>Long time Big Buy</td>\n",
              "    </tr>\n",
              "    <tr>\n",
              "      <th>441</th>\n",
              "      <td>40218</td>\n",
              "      <td>22.0</td>\n",
              "      <td>1</td>\n",
              "      <td>1770</td>\n",
              "      <td>5</td>\n",
              "      <td>1</td>\n",
              "      <td>4</td>\n",
              "      <td>514</td>\n",
              "      <td>Long time Big Buy</td>\n",
              "    </tr>\n",
              "    <tr>\n",
              "      <th>442</th>\n",
              "      <td>99553</td>\n",
              "      <td>21.0</td>\n",
              "      <td>1</td>\n",
              "      <td>2350</td>\n",
              "      <td>5</td>\n",
              "      <td>1</td>\n",
              "      <td>5</td>\n",
              "      <td>515</td>\n",
              "      <td>Long time Big Buy</td>\n",
              "    </tr>\n",
              "    <tr>\n",
              "      <th>443</th>\n",
              "      <td>53725</td>\n",
              "      <td>21.0</td>\n",
              "      <td>1</td>\n",
              "      <td>1050</td>\n",
              "      <td>5</td>\n",
              "      <td>1</td>\n",
              "      <td>2</td>\n",
              "      <td>512</td>\n",
              "      <td>Potential Loyalists</td>\n",
              "    </tr>\n",
              "    <tr>\n",
              "      <th>444</th>\n",
              "      <td>87648</td>\n",
              "      <td>12.0</td>\n",
              "      <td>1</td>\n",
              "      <td>1640</td>\n",
              "      <td>5</td>\n",
              "      <td>1</td>\n",
              "      <td>4</td>\n",
              "      <td>514</td>\n",
              "      <td>Long time Big Buy</td>\n",
              "    </tr>\n",
              "  </tbody>\n",
              "</table>\n",
              "<p>445 rows × 9 columns</p>\n",
              "</div>\n",
              "      <button class=\"colab-df-convert\" onclick=\"convertToInteractive('df-1eecece1-c74a-4527-9fce-b6a0ee8bb561')\"\n",
              "              title=\"Convert this dataframe to an interactive table.\"\n",
              "              style=\"display:none;\">\n",
              "        \n",
              "  <svg xmlns=\"http://www.w3.org/2000/svg\" height=\"24px\"viewBox=\"0 0 24 24\"\n",
              "       width=\"24px\">\n",
              "    <path d=\"M0 0h24v24H0V0z\" fill=\"none\"/>\n",
              "    <path d=\"M18.56 5.44l.94 2.06.94-2.06 2.06-.94-2.06-.94-.94-2.06-.94 2.06-2.06.94zm-11 1L8.5 8.5l.94-2.06 2.06-.94-2.06-.94L8.5 2.5l-.94 2.06-2.06.94zm10 10l.94 2.06.94-2.06 2.06-.94-2.06-.94-.94-2.06-.94 2.06-2.06.94z\"/><path d=\"M17.41 7.96l-1.37-1.37c-.4-.4-.92-.59-1.43-.59-.52 0-1.04.2-1.43.59L10.3 9.45l-7.72 7.72c-.78.78-.78 2.05 0 2.83L4 21.41c.39.39.9.59 1.41.59.51 0 1.02-.2 1.41-.59l7.78-7.78 2.81-2.81c.8-.78.8-2.07 0-2.86zM5.41 20L4 18.59l7.72-7.72 1.47 1.35L5.41 20z\"/>\n",
              "  </svg>\n",
              "      </button>\n",
              "      \n",
              "  <style>\n",
              "    .colab-df-container {\n",
              "      display:flex;\n",
              "      flex-wrap:wrap;\n",
              "      gap: 12px;\n",
              "    }\n",
              "\n",
              "    .colab-df-convert {\n",
              "      background-color: #E8F0FE;\n",
              "      border: none;\n",
              "      border-radius: 50%;\n",
              "      cursor: pointer;\n",
              "      display: none;\n",
              "      fill: #1967D2;\n",
              "      height: 32px;\n",
              "      padding: 0 0 0 0;\n",
              "      width: 32px;\n",
              "    }\n",
              "\n",
              "    .colab-df-convert:hover {\n",
              "      background-color: #E2EBFA;\n",
              "      box-shadow: 0px 1px 2px rgba(60, 64, 67, 0.3), 0px 1px 3px 1px rgba(60, 64, 67, 0.15);\n",
              "      fill: #174EA6;\n",
              "    }\n",
              "\n",
              "    [theme=dark] .colab-df-convert {\n",
              "      background-color: #3B4455;\n",
              "      fill: #D2E3FC;\n",
              "    }\n",
              "\n",
              "    [theme=dark] .colab-df-convert:hover {\n",
              "      background-color: #434B5C;\n",
              "      box-shadow: 0px 1px 3px 1px rgba(0, 0, 0, 0.15);\n",
              "      filter: drop-shadow(0px 1px 2px rgba(0, 0, 0, 0.3));\n",
              "      fill: #FFFFFF;\n",
              "    }\n",
              "  </style>\n",
              "\n",
              "      <script>\n",
              "        const buttonEl =\n",
              "          document.querySelector('#df-1eecece1-c74a-4527-9fce-b6a0ee8bb561 button.colab-df-convert');\n",
              "        buttonEl.style.display =\n",
              "          google.colab.kernel.accessAllowed ? 'block' : 'none';\n",
              "\n",
              "        async function convertToInteractive(key) {\n",
              "          const element = document.querySelector('#df-1eecece1-c74a-4527-9fce-b6a0ee8bb561');\n",
              "          const dataTable =\n",
              "            await google.colab.kernel.invokeFunction('convertToInteractive',\n",
              "                                                     [key], {});\n",
              "          if (!dataTable) return;\n",
              "\n",
              "          const docLinkHtml = 'Like what you see? Visit the ' +\n",
              "            '<a target=\"_blank\" href=https://colab.research.google.com/notebooks/data_table.ipynb>data table notebook</a>'\n",
              "            + ' to learn more about interactive tables.';\n",
              "          element.innerHTML = '';\n",
              "          dataTable['output_type'] = 'display_data';\n",
              "          await google.colab.output.renderOutput(dataTable, element);\n",
              "          const docLink = document.createElement('div');\n",
              "          docLink.innerHTML = docLinkHtml;\n",
              "          element.appendChild(docLink);\n",
              "        }\n",
              "      </script>\n",
              "    </div>\n",
              "  </div>\n",
              "  "
            ],
            "text/plain": [
              "    Customer_ID  recency  frequency  monetary  r_score  f_score  m_score  \\\n",
              "0         75859    871.0          1      1110        1        1        2   \n",
              "1         43926    871.0          1      2040        1        1        5   \n",
              "2         65206    868.0          1      1710        1        1        4   \n",
              "3         83249    847.0          1       540        1        1        1   \n",
              "4         67902    845.0          1      2040        1        1        5   \n",
              "..          ...      ...        ...       ...      ...      ...      ...   \n",
              "440       51915     23.0          1      1530        5        1        4   \n",
              "441       40218     22.0          1      1770        5        1        4   \n",
              "442       99553     21.0          1      2350        5        1        5   \n",
              "443       53725     21.0          1      1050        5        1        2   \n",
              "444       87648     12.0          1      1640        5        1        4   \n",
              "\n",
              "    RFMScore              Segment  \n",
              "0        112              At Risk  \n",
              "1        115              At Risk  \n",
              "2        114              At Risk  \n",
              "3        111              At Risk  \n",
              "4        115              At Risk  \n",
              "..       ...                  ...  \n",
              "440      514    Long time Big Buy  \n",
              "441      514    Long time Big Buy  \n",
              "442      515    Long time Big Buy  \n",
              "443      512  Potential Loyalists  \n",
              "444      514    Long time Big Buy  \n",
              "\n",
              "[445 rows x 9 columns]"
            ]
          },
          "execution_count": 19,
          "metadata": {},
          "output_type": "execute_result"
        }
      ],
      "source": [
        "df_rfm"
      ]
    },
    {
      "cell_type": "markdown",
      "metadata": {
        "id": "tsrNqVxECoSA"
      },
      "source": [
        "# **Clustering**"
      ]
    },
    {
      "cell_type": "markdown",
      "metadata": {
        "id": "hlxfUDr4pkJ-"
      },
      "source": [
        "## **Data Preprocessing**"
      ]
    },
    {
      "cell_type": "code",
      "execution_count": 20,
      "metadata": {
        "id": "v-9IHAFhiL5G"
      },
      "outputs": [],
      "source": [
        "def data_processing_cluster(df):\n",
        "  df_copy = df.copy()\n",
        "  X = df_copy[['recency', 'frequency', 'monetary']]\n",
        "  X_norm = scaling(X)\n",
        "  return X_norm"
      ]
    },
    {
      "cell_type": "markdown",
      "metadata": {
        "id": "HW9XcZFZ1WLl"
      },
      "source": [
        "หลังจาก copy ข้อมูลที่ทำความสะอาดเรียบร้อยแล้ว นำมาทำ Transformation และ Scalling โดยใช้ Log Transformation และ Standard Scaler ตามลำดับ"
      ]
    },
    {
      "cell_type": "code",
      "execution_count": 21,
      "metadata": {
        "id": "SmjuZs1mleGk"
      },
      "outputs": [],
      "source": [
        "def scaling(df):\n",
        "  df_log = np.log1p(df)\n",
        "  scaler = StandardScaler()\n",
        "  norm = scaler.fit_transform(df_log)\n",
        "  return norm"
      ]
    },
    {
      "cell_type": "code",
      "execution_count": 22,
      "metadata": {
        "id": "Bezg87Kfw3Tl"
      },
      "outputs": [],
      "source": [
        "X_norm = data_processing_cluster(df_wrag)"
      ]
    },
    {
      "cell_type": "markdown",
      "metadata": {
        "id": "5sVcEZ0SC3go"
      },
      "source": [
        "## **Modeling**"
      ]
    },
    {
      "cell_type": "markdown",
      "metadata": {
        "id": "PPImLcrSBF_8"
      },
      "source": [
        "### **k-Means**"
      ]
    },
    {
      "cell_type": "markdown",
      "metadata": {
        "id": "vhGCLsCK5eiL"
      },
      "source": [
        "จากนั้นนำมา modelling กับ k-means โดยใช้ kneed ที่เป็น automation ในการหาค่า k ที่ดีที่สุด"
      ]
    },
    {
      "cell_type": "code",
      "execution_count": 23,
      "metadata": {
        "id": "l77MKquKxJdG"
      },
      "outputs": [],
      "source": [
        "def k_means_modelling(X, X_norm):\n",
        "  kmeans = k_means(X_norm)\n",
        "  X_kmeans = X.assign(cluster=kmeans.labels_)\n",
        "  return kmeans, X_kmeans"
      ]
    },
    {
      "cell_type": "code",
      "execution_count": 24,
      "metadata": {
        "id": "H0mVOD7ijOZG"
      },
      "outputs": [],
      "source": [
        "def k_means(X):\n",
        "  sse = {}\n",
        "  for k in range(1, 21):\n",
        "    kmeans = KMeans(n_clusters=k, random_state=0).fit(X)\n",
        "    sse[k] = kmeans.inertia_\n",
        "\n",
        "  kn = kneed.KneeLocator(\n",
        "    x=list(sse.keys()), \n",
        "    y=list(sse.values()), \n",
        "    curve='convex', \n",
        "    direction='decreasing')\n",
        "  \n",
        "  kmeans = KMeans(n_clusters=kn.knee, random_state=0).fit(X)\n",
        "  return kmeans"
      ]
    },
    {
      "cell_type": "code",
      "execution_count": 25,
      "metadata": {
        "id": "OcKFqn6lmPNk"
      },
      "outputs": [],
      "source": [
        "kmeans, X_kmeans = k_means_modelling(df_wrag, X_norm)"
      ]
    },
    {
      "cell_type": "markdown",
      "metadata": {
        "id": "Vw6ynG2J_nID"
      },
      "source": [
        "k-means model"
      ]
    },
    {
      "cell_type": "code",
      "execution_count": 26,
      "metadata": {
        "id": "F2uoF0i8_5_u"
      },
      "outputs": [],
      "source": [
        "centroid = kmeans.cluster_centers_"
      ]
    },
    {
      "cell_type": "code",
      "execution_count": 27,
      "metadata": {
        "colab": {
          "base_uri": "https://localhost:8080/",
          "height": 265
        },
        "id": "6cCfy4R5_m54",
        "outputId": "75b21e9e-1e7e-4ab0-cf61-a9071a87b266"
      },
      "outputs": [
        {
          "data": {
            "image/png": "[encoded data removed]",
            "text/plain": [
              "<Figure size 432x288 with 1 Axes>"
            ]
          },
          "metadata": {
            "needs_background": "light"
          },
          "output_type": "display_data"
        }
      ],
      "source": [
        "plt.scatter(X_norm[:,0], X_norm[:,2], c=kmeans.labels_)\n",
        "plt.scatter(centroid[:,0], centroid[:,2], marker='x', color='r')\n",
        "plt.show()"
      ]
    },
    {
      "cell_type": "markdown",
      "metadata": {
        "id": "ERohxFPgBJ9p"
      },
      "source": [
        "### **Agglomerative Clustering**"
      ]
    },
    {
      "cell_type": "markdown",
      "metadata": {
        "id": "eXC2ysuN52i9"
      },
      "source": [
        "ต่อนำมา modelling กับ Agglomerative Clustering โดยใช้ kneed ที่เป็น automation ในการหาค่า k ที่ดีที่สุด และเพิ่ม Linkage แต่ละวิธีอย่างเช่น Ward, Complete-link, Average-link"
      ]
    },
    {
      "cell_type": "code",
      "execution_count": 28,
      "metadata": {
        "id": "rt8xQZtpzdNd"
      },
      "outputs": [],
      "source": [
        "def agglomerative_modelling(X, X_norm, lk):\n",
        "  agg = agglomerative(X_norm, lk)\n",
        "  X_agg = X.assign(cluster=agg.labels_)\n",
        "  return agg, X_agg"
      ]
    },
    {
      "cell_type": "code",
      "execution_count": 29,
      "metadata": {
        "id": "kX7pWlyXkhRt"
      },
      "outputs": [],
      "source": [
        "def agglomerative(X, lk):\n",
        "  sse = {}\n",
        "  for k in range(1, 21):\n",
        "    kmeans = KMeans(n_clusters=k, random_state=0).fit(X)\n",
        "    sse[k] = kmeans.inertia_\n",
        "\n",
        "  kn = kneed.KneeLocator(\n",
        "    x=list(sse.keys()), \n",
        "    y=list(sse.values()), \n",
        "    curve='convex', \n",
        "    direction='decreasing')\n",
        "  \n",
        "  agg = AgglomerativeClustering(n_clusters=kn.knee, linkage=lk).fit(X)\n",
        "  return agg"
      ]
    },
    {
      "cell_type": "code",
      "execution_count": 30,
      "metadata": {
        "id": "8d7r8UBXzlXU"
      },
      "outputs": [],
      "source": [
        "agg_ward, X_agg_ward = agglomerative_modelling(df_wrag, X_norm, 'ward')\n",
        "agg_complete, X_agg_complete = agglomerative_modelling(df_wrag, X_norm, 'complete')\n",
        "agg_average, X_agg_average = agglomerative_modelling(df_wrag, X_norm, 'average')"
      ]
    },
    {
      "cell_type": "markdown",
      "metadata": {
        "id": "DhSn5tH2AJRl"
      },
      "source": [
        "Agglomerative (Ward)"
      ]
    },
    {
      "cell_type": "code",
      "execution_count": null,
      "metadata": {
        "colab": {
          "base_uri": "https://localhost:8080/",
          "height": 265
        },
        "id": "S7Z4xqj-AIoT",
        "outputId": "6a24d943-ca20-4a29-8d30-5462fbb1a87f"
      },
      "outputs": [
        {
          "data": {
            "image/png": "[encoded data removed]",
            "text/plain": [
              "<Figure size 432x288 with 1 Axes>"
            ]
          },
          "metadata": {
            "needs_background": "light"
          },
          "output_type": "display_data"
        }
      ],
      "source": [
        "plt.scatter(X_norm[:,0], X_norm[:,2], c=agg_ward.labels_)\n",
        "plt.show()"
      ]
    },
    {
      "cell_type": "code",
      "execution_count": null,
      "metadata": {
        "colab": {
          "base_uri": "https://localhost:8080/",
          "height": 597
        },
        "id": "zOjTaBrIExJV",
        "outputId": "01a9ef09-7c8a-4645-c12f-e9d1fe942755"
      },
      "outputs": [
        {
          "data": {
            "image/png": "[encoded data removed]",
            "text/plain": [
              "<Figure size 720x720 with 1 Axes>"
            ]
          },
          "metadata": {
            "needs_background": "light"
          },
          "output_type": "display_data"
        }
      ],
      "source": [
        "plt.figure(figsize = (10,10))\n",
        "linkage_arr = ward(X_norm)\n",
        "dendrogram(linkage_arr, leaf_rotation=90, leaf_font_size=8)\n",
        "plt.axhline(y=17, c='k')\n",
        "\n",
        "ax = plt.gca()\n",
        "bounds = ax.get_xbound()\n",
        "plt.show()"
      ]
    },
    {
      "cell_type": "markdown",
      "metadata": {
        "id": "RsL-f5vSBphc"
      },
      "source": [
        "Agglomerative (Complete)"
      ]
    },
    {
      "cell_type": "code",
      "execution_count": null,
      "metadata": {
        "colab": {
          "base_uri": "https://localhost:8080/",
          "height": 265
        },
        "id": "-tWfFkqaAIh9",
        "outputId": "41e9517a-2de5-48bc-d208-aedf47cad6cd"
      },
      "outputs": [
        {
          "data": {
            "image/png": "[encoded data removed]",
            "text/plain": [
              "<Figure size 432x288 with 1 Axes>"
            ]
          },
          "metadata": {
            "needs_background": "light"
          },
          "output_type": "display_data"
        }
      ],
      "source": [
        "plt.scatter(X_norm[:,0], X_norm[:,2], c=agg_complete.labels_)\n",
        "plt.show()"
      ]
    },
    {
      "cell_type": "code",
      "execution_count": null,
      "metadata": {
        "colab": {
          "base_uri": "https://localhost:8080/",
          "height": 597
        },
        "id": "cEetC5AVFC9c",
        "outputId": "1cd14ebd-369c-4fac-af01-f4306ac7c606"
      },
      "outputs": [
        {
          "data": {
            "image/png": "[encoded data removed]",
            "text/plain": [
              "<Figure size 720x720 with 1 Axes>"
            ]
          },
          "metadata": {
            "needs_background": "light"
          },
          "output_type": "display_data"
        }
      ],
      "source": [
        "plt.figure(figsize = (10,10))\n",
        "linkage_arr = complete(X_norm)\n",
        "dendrogram(linkage_arr, leaf_rotation=90, leaf_font_size=8)\n",
        "plt.axhline(y=4.3, c='k')\n",
        "\n",
        "ax = plt.gca()\n",
        "bounds = ax.get_xbound()\n",
        "plt.show()"
      ]
    },
    {
      "cell_type": "markdown",
      "metadata": {
        "id": "nZVF_nsPBtU1"
      },
      "source": [
        "Agglomerative (Average)"
      ]
    },
    {
      "cell_type": "code",
      "execution_count": null,
      "metadata": {
        "colab": {
          "base_uri": "https://localhost:8080/",
          "height": 265
        },
        "id": "X6SrzSaRAIUL",
        "outputId": "2d487d91-dd2a-46aa-d770-8d8501b56e92"
      },
      "outputs": [
        {
          "data": {
            "image/png": "[encoded data removed]",
            "text/plain": [
              "<Figure size 432x288 with 1 Axes>"
            ]
          },
          "metadata": {
            "needs_background": "light"
          },
          "output_type": "display_data"
        }
      ],
      "source": [
        "plt.scatter(X_norm[:,0], X_norm[:,2], c=agg_average.labels_)\n",
        "plt.show()"
      ]
    },
    {
      "cell_type": "code",
      "execution_count": null,
      "metadata": {
        "colab": {
          "base_uri": "https://localhost:8080/",
          "height": 597
        },
        "id": "hW4IG1FeFgvN",
        "outputId": "477bba40-fc49-47a2-dcb3-3e135b3ac5c4"
      },
      "outputs": [
        {
          "data": {
            "image/png": "[encoded data removed]",
            "text/plain": [
              "<Figure size 720x720 with 1 Axes>"
            ]
          },
          "metadata": {
            "needs_background": "light"
          },
          "output_type": "display_data"
        }
      ],
      "source": [
        "plt.figure(figsize = (10,10))\n",
        "linkage_arr = average(X_norm)\n",
        "dendrogram(linkage_arr, leaf_rotation=90, leaf_font_size=8)\n",
        "plt.axhline(y=2, c='k')\n",
        "\n",
        "ax = plt.gca()\n",
        "bounds = ax.get_xbound()\n",
        "plt.show()"
      ]
    },
    {
      "cell_type": "markdown",
      "metadata": {
        "id": "EbGCXuRnBOMc"
      },
      "source": [
        "## **Model Evaluation**"
      ]
    },
    {
      "cell_type": "markdown",
      "metadata": {
        "id": "9qs1oirE6RET"
      },
      "source": [
        "หลังจาก modelling ทั้งสองอัลกอริทึมเสร็จแล้ว นำมาประเมินผลโมเดล โดยใช้ Calinski Harabasz Score เพื่อหาว่าโมเดลไหนมีการกระจายตัวได้ดีที่สุด จึงกำหนดให้เป็นโมเดลหลัก จากนั้นทำ modelling แล้วนำข้อมูลหลังจากทำ Clustering มาบันทึกไฟล์"
      ]
    },
    {
      "cell_type": "code",
      "execution_count": 31,
      "metadata": {
        "id": "URRzFMFN2eyN"
      },
      "outputs": [],
      "source": [
        "model = [kmeans, agg_ward, agg_complete, agg_average]\n",
        "model_score = [calinski_harabasz_score(X_norm, kmeans.labels_),\n",
        "               calinski_harabasz_score(X_norm, agg_ward.labels_),\n",
        "               calinski_harabasz_score(X_norm, agg_complete.labels_),\n",
        "               calinski_harabasz_score(X_norm, agg_average.labels_)]"
      ]
    },
    {
      "cell_type": "code",
      "execution_count": 32,
      "metadata": {
        "colab": {
          "base_uri": "https://localhost:8080/"
        },
        "id": "J3uYcTFqARZ9",
        "outputId": "86abeedf-f5a2-4f64-c05f-28bd073d6bde"
      },
      "outputs": [
        {
          "name": "stdout",
          "output_type": "stream",
          "text": [
            "Calinski-Harabasz score k-means : 492.3493\n",
            "Calinski-Harabasz score Agglomerative (Ward): 391.7825\n",
            "Calinski-Harabasz score Agglomerative (Complete): 363.0465\n",
            "Calinski-Harabasz score Agglomerative (Average): 443.0850\n"
          ]
        }
      ],
      "source": [
        "print(\"Calinski-Harabasz score k-means : {:.4f}\".format(calinski_harabasz_score(X_norm, kmeans.labels_)))\n",
        "print(\"Calinski-Harabasz score Agglomerative (Ward): {:.4f}\".format(calinski_harabasz_score(X_norm, agg_ward.labels_)))\n",
        "print(\"Calinski-Harabasz score Agglomerative (Complete): {:.4f}\".format(calinski_harabasz_score(X_norm, agg_complete.labels_)))\n",
        "print(\"Calinski-Harabasz score Agglomerative (Average): {:.4f}\".format(calinski_harabasz_score(X_norm, agg_average.labels_)))"
      ]
    },
    {
      "cell_type": "code",
      "execution_count": 33,
      "metadata": {
        "id": "JjYmQJ4C2RNl"
      },
      "outputs": [],
      "source": [
        "def select_best_model(model, ms):\n",
        "  maxpos = ms.index(max(ms))\n",
        "  return model[maxpos]"
      ]
    },
    {
      "cell_type": "code",
      "execution_count": 36,
      "metadata": {
        "id": "BwWpfC0RHyua"
      },
      "outputs": [],
      "source": [
        "best_model = select_best_model(model, model_score)"
      ]
    },
    {
      "cell_type": "code",
      "execution_count": 34,
      "metadata": {
        "id": "bjPDcOEiXOxZ"
      },
      "outputs": [],
      "source": [
        "def save_file(X, X_norm):\n",
        "  best_model = select_best_model(model, model_score)\n",
        "  X_best = X.assign(cluster=best_model.labels_)\n",
        "  X_best = X_best[['Customer_ID', 'cluster']]\n",
        "  df_merge = X.merge(X_best, on='Customer_ID')\n",
        "  df_merge.to_csv('Customer_Segmentation.csv')"
      ]
    },
    {
      "cell_type": "code",
      "execution_count": 35,
      "metadata": {
        "id": "_c5aWeV_nmsw"
      },
      "outputs": [],
      "source": [
        "save_file(df_wrag, X_norm)"
      ]
    },
    {
      "cell_type": "markdown",
      "metadata": {
        "id": "TSqSUlUZPIQ6"
      },
      "source": [
        "## **Predict**"
      ]
    },
    {
      "cell_type": "code",
      "execution_count": 37,
      "metadata": {
        "id": "J-hs8v7MInJs"
      },
      "outputs": [],
      "source": [
        "def clustering_data(order_source, oid, cid, pid, n, prom, date):\n",
        "  p_id = ['THT0001', 'THT0002', 'THT0003', 'THT0004', 'THT0005',\n",
        "          'THT0006', 'THT0007', 'THT0008', 'THT0009', 'THT0010',\n",
        "          'THT0011', 'THT0012', 'THT0013', 'THT0014', 'THT0015',\n",
        "          'THT0016', 'THT0017', 'THT0018', 'THT0019', 'THT0020']\n",
        "\n",
        "  p_price = [250, 270, 290, 310, 330,\n",
        "             350, 370, 390, 410, 430,\n",
        "             450, 470, 490, 510, 530,\n",
        "             550, 570, 590, 610, 630]\n",
        "  \n",
        "  p_dict = dict(zip(p_id, p_price))\n",
        "\n",
        "  df_input = pd.DataFrame({'Order_Source':[order_source],\n",
        "                           'Order_ID':[oid],\n",
        "                           'Customer_ID':[cid],\n",
        "                           'Product_ID':[pid],\n",
        "                           'Product_Price':[p_dict[pid]],\n",
        "                           'Quantity':[n],\n",
        "                           'Promotion':[prom],\n",
        "                           'TotalPrice':[p_dict[pid] * n],\n",
        "                           'date':[datetime.strptime(date, '%Y-%m-%d').date()],})\n",
        "\n",
        "  X_input = to_rfm_dataset(df_input)\n",
        "  y_pred = predict_model(X_input)\n",
        "\n",
        "  return y_pred"
      ]
    },
    {
      "cell_type": "code",
      "execution_count": 38,
      "metadata": {
        "id": "lDB3ShbjDoi7"
      },
      "outputs": [],
      "source": [
        "def to_rfm_dataset(input):\n",
        "  df_input = df_clean.append(input, ignore_index = True)\n",
        "  df_output = data_wagling(df_input)\n",
        "  result = df_output[df_output['Customer_ID'] == input.loc[0, 'Customer_ID']].drop('Customer_ID', axis=1)\n",
        "  result = result.values.tolist()\n",
        "  return result"
      ]
    },
    {
      "cell_type": "code",
      "execution_count": 39,
      "metadata": {
        "id": "ukASE1Q-5_Dd"
      },
      "outputs": [],
      "source": [
        "def predict_model(input):\n",
        "  y_pred = best_model.predict(input)\n",
        "  return y_pred[0]"
      ]
    },
    {
      "cell_type": "code",
      "execution_count": 41,
      "metadata": {
        "colab": {
          "base_uri": "https://localhost:8080/"
        },
        "id": "oALk_WYAIpK6",
        "outputId": "913eb4cf-a4c2-46e6-c571-2e118edf3496"
      },
      "outputs": [
        {
          "data": {
            "text/plain": [
              "2"
            ]
          },
          "execution_count": 41,
          "metadata": {},
          "output_type": "execute_result"
        }
      ],
      "source": [
        "clustering_data('Shopee', '9987', '75859', 'THT0001', 1, 'No', '2022-05-20')"
      ]
    }
  ],
  "metadata": {
    "colab": {
      "collapsed_sections": [
        "TSqSUlUZPIQ6"
      ],
      "name": "Customer_Segmentation_cs385.ipynb",
      "provenance": []
    },
    "kernelspec": {
      "display_name": "Python 3",
      "name": "python3"
    },
    "language_info": {
      "name": "python"
    }
  },
  "nbformat": 4,
  "nbformat_minor": 0
}
